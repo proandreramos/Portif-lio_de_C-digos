{
 "cells": [
  {
   "cell_type": "markdown",
   "id": "e43dd58c-0a4d-43dc-896d-ba6205081baf",
   "metadata": {},
   "source": [
    "## Crie um programa que verifica se o nome da cidade em que você nasceu começa com 'Santo'"
   ]
  },
  {
   "cell_type": "code",
   "execution_count": 8,
   "id": "28e69845-87e5-4abf-bb57-615745b77a26",
   "metadata": {},
   "outputs": [
    {
     "ename": "SyntaxError",
     "evalue": "invalid syntax (1506037697.py, line 5)",
     "output_type": "error",
     "traceback": [
      "\u001b[1;36m  Cell \u001b[1;32mIn[8], line 5\u001b[1;36m\u001b[0m\n\u001b[1;33m    else:\u001b[0m\n\u001b[1;37m    ^\u001b[0m\n\u001b[1;31mSyntaxError\u001b[0m\u001b[1;31m:\u001b[0m invalid syntax\n"
     ]
    }
   ],
   "source": [
    "\"\"\"cidade =input('Digite o nome da cidade em que você nasceu').strip()\n",
    "print(cidade[:5].upper() == 'SANTO')\n",
    "if cidade.startswith:('santo')\n",
    "print('Você nasceu em uma cidade que começa com nome de santo'),:\n",
    "print('A cidade em que você nasceu nmão começa com o nome \"Santo\".')\"\"\""
   ]
  },
  {
   "cell_type": "code",
   "execution_count": 9,
   "id": "2295de34-1ea7-4513-bb90-6582003f130b",
   "metadata": {},
   "outputs": [
    {
     "name": "stdin",
     "output_type": "stream",
     "text": [
      "Digite o nome da cidade em que nasceu:  santo andre\n"
     ]
    },
    {
     "name": "stdout",
     "output_type": "stream",
     "text": [
      "True\n",
      "Você nasceu em uma cidade que começa com nome de Santo\n"
     ]
    }
   ],
   "source": [
    "cidade = str(input('Digite o nome da cidade em que nasceu: ')).strip()#strip elimina espaços indesejados\n",
    "#Buscar na variável até o índice 5 que é o total de letras, começando pelo zero\n",
    "print (cidade[:5].upper() == 'SANTO') #Converter tudo em maíusculo para prevenir erros de digitação.\n",
    "if cidade.startswith('santo'):\n",
    "    print('Você nasceu em uma cidade que começa com nome de Santo')\n",
    "else:\n",
    "    print('A cidade em que você nasceu não começa com \"Santo\"')"
   ]
  },
  {
   "cell_type": "code",
   "execution_count": null,
   "id": "8ac45595-341f-41a1-9091-473ac682a52e",
   "metadata": {},
   "outputs": [],
   "source": []
  }
 ],
 "metadata": {
  "kernelspec": {
   "display_name": "Python 3 (ipykernel)",
   "language": "python",
   "name": "python3"
  },
  "language_info": {
   "codemirror_mode": {
    "name": "ipython",
    "version": 3
   },
   "file_extension": ".py",
   "mimetype": "text/x-python",
   "name": "python",
   "nbconvert_exporter": "python",
   "pygments_lexer": "ipython3",
   "version": "3.11.7"
  }
 },
 "nbformat": 4,
 "nbformat_minor": 5
}
