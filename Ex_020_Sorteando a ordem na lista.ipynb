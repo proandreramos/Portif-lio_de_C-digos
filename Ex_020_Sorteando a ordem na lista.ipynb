{
 "cells": [
  {
   "cell_type": "markdown",
   "id": "eb72ae7e-69fa-4fbb-b32f-dfd1f5f694fb",
   "metadata": {},
   "source": [
    "### O mesmo professor irá sortear a ordem de apresentação dos trabalhos. Faça um programa que leia o nome dos 4 e mostre a ordem sorteada"
   ]
  },
  {
   "cell_type": "code",
   "execution_count": 7,
   "id": "5aebe8e0-eca5-44eb-ad6d-f389890c6956",
   "metadata": {},
   "outputs": [
    {
     "name": "stdin",
     "output_type": "stream",
     "text": [
      "1º Aluno: Ana\n",
      "2° Aluno: José\n",
      "3° Aluno: Maria\n",
      "4° Aluno: Pedro\n"
     ]
    },
    {
     "name": "stdout",
     "output_type": "stream",
     "text": [
      "A ordem de apresentação dos trabalhos é:\n",
      "['Maria', 'José', 'Ana', 'Pedro']\n"
     ]
    }
   ],
   "source": [
    "from random import shuffle\n",
    "a1 = input('1º Aluno:')\n",
    "a2 = input('2° Aluno:')\n",
    "a3 = input('3° Aluno:')\n",
    "a4 = input('4° Aluno:')\n",
    "lista = [a1, a2, a3, a4]\n",
    "shuffle(lista)\n",
    "print('A ordem de apresentação dos trabalhos é:')\n",
    "print(lista)"
   ]
  },
  {
   "cell_type": "code",
   "execution_count": null,
   "id": "26ecaacf-a782-4dfb-bbde-dce4dda281c7",
   "metadata": {},
   "outputs": [],
   "source": []
  }
 ],
 "metadata": {
  "kernelspec": {
   "display_name": "Python 3 (ipykernel)",
   "language": "python",
   "name": "python3"
  },
  "language_info": {
   "codemirror_mode": {
    "name": "ipython",
    "version": 3
   },
   "file_extension": ".py",
   "mimetype": "text/x-python",
   "name": "python",
   "nbconvert_exporter": "python",
   "pygments_lexer": "ipython3",
   "version": "3.11.7"
  }
 },
 "nbformat": 4,
 "nbformat_minor": 5
}
