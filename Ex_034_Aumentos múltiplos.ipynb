{
 "cells": [
  {
   "cell_type": "markdown",
   "id": "51b09a76-24c3-48ae-98f6-8f85f5a45696",
   "metadata": {},
   "source": [
    "### Escreva um programa que pergunte o salário de um funcionário e calcule o valor do seu aumento.\n",
    "### Para salários superiores a R$1250,00, calcule um aumento de 10%. Para os inferiores ou iguais, o aumento é de 15%"
   ]
  },
  {
   "cell_type": "code",
   "execution_count": 4,
   "id": "78825611-6b96-4f2b-891a-bd4519d62c7a",
   "metadata": {},
   "outputs": [
    {
     "name": "stdin",
     "output_type": "stream",
     "text": [
      "Digite o salário do funcionário:  1250\n"
     ]
    },
    {
     "name": "stdout",
     "output_type": "stream",
     "text": [
      "Quem ganhava R$ 1250.00 passará a ganhar R$ 1437.50.\n"
     ]
    }
   ],
   "source": [
    "salario = float(input('Digite o salário do funcionário: '))\n",
    "if salario > 1250:\n",
    "    salario_novo = salario * 1.10\n",
    "else:\n",
    "    salario_novo = salario * 1.15\n",
    "print('Quem ganhava R$ {:.2f} passará a ganhar R$ {:.2f}.'.format(salario, salario_novo)) "
   ]
  },
  {
   "cell_type": "code",
   "execution_count": null,
   "id": "0e96f2d7-09ff-47b5-ac59-c097aec15e82",
   "metadata": {},
   "outputs": [],
   "source": []
  }
 ],
 "metadata": {
  "kernelspec": {
   "display_name": "Python 3 (ipykernel)",
   "language": "python",
   "name": "python3"
  },
  "language_info": {
   "codemirror_mode": {
    "name": "ipython",
    "version": 3
   },
   "file_extension": ".py",
   "mimetype": "text/x-python",
   "name": "python",
   "nbconvert_exporter": "python",
   "pygments_lexer": "ipython3",
   "version": "3.11.7"
  }
 },
 "nbformat": 4,
 "nbformat_minor": 5
}
