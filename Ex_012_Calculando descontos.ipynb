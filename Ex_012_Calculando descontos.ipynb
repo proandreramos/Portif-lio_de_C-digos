{
 "cells": [
  {
   "cell_type": "code",
   "execution_count": null,
   "id": "ae49596e-167a-48c8-b971-19e1c80e5f69",
   "metadata": {},
   "outputs": [],
   "source": [
    "# Faça um algoritmo que leia o preço de um produto e mostre seu novo preço com 5% de desconto"
   ]
  },
  {
   "cell_type": "code",
   "execution_count": 2,
   "id": "c2847b36-f575-4d81-be55-4a32a2c4794a",
   "metadata": {},
   "outputs": [
    {
     "name": "stdin",
     "output_type": "stream",
     "text": [
      "Digite o valor do produto: 100\n"
     ]
    },
    {
     "name": "stdout",
     "output_type": "stream",
     "text": [
      "O produto que custava R$ 100.00, na promoção com desconto de 5%, vai custar R$ 95.00. Você economizou R$ 5.00\n"
     ]
    }
   ],
   "source": [
    "Preço_Atual = float(input('Digite o valor do produto:'))\n",
    "Novo_Preço = Preço_Atual * 0.95 #5% de desconto\n",
    "print('O produto que custava R$ {:.2f}, na promoção com desconto de 5%, vai custar R$ {:.2f}. Você economizou R$ {:.2f}'.format(Preço_Atual,Novo_Preço, Preço_Atual - Novo_Preço))"
   ]
  },
  {
   "cell_type": "code",
   "execution_count": null,
   "id": "a3e44e5d-ae95-4b6b-9c07-e2c4d032fa34",
   "metadata": {},
   "outputs": [],
   "source": []
  },
  {
   "cell_type": "code",
   "execution_count": null,
   "id": "d5f64954-123d-4138-b6a4-b688988d933c",
   "metadata": {},
   "outputs": [],
   "source": []
  }
 ],
 "metadata": {
  "kernelspec": {
   "display_name": "Python 3 (ipykernel)",
   "language": "python",
   "name": "python3"
  },
  "language_info": {
   "codemirror_mode": {
    "name": "ipython",
    "version": 3
   },
   "file_extension": ".py",
   "mimetype": "text/x-python",
   "name": "python",
   "nbconvert_exporter": "python",
   "pygments_lexer": "ipython3",
   "version": "3.11.7"
  }
 },
 "nbformat": 4,
 "nbformat_minor": 5
}
