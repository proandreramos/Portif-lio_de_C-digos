{
 "cells": [
  {
   "cell_type": "markdown",
   "id": "359c8595-2b72-4785-a6ca-a35ee8eb497b",
   "metadata": {},
   "source": [
    "## Faça um programa que leia o nome completo de uma pessoa mostrando em seguida o 1º e último nome separadamente\n",
    "## Ex: Ana Maria de Souza. /n Primeiro: Ana \\n Último: Souza"
   ]
  },
  {
   "cell_type": "code",
   "execution_count": 5,
   "id": "39e498d8-1ded-4adf-bc6a-806df1619a12",
   "metadata": {},
   "outputs": [
    {
     "name": "stdin",
     "output_type": "stream",
     "text": [
      "Digite o seu nome completo  ANDRE LUIZ SANTOS\n"
     ]
    },
    {
     "name": "stdout",
     "output_type": "stream",
     "text": [
      "Prazer em conhecer, Andre Luiz Santos!\n",
      "Seu primeiro nome é Andre\n",
      "Seu último nome é: Santos\n",
      "['Andre', 'Luiz', 'Santos']\n"
     ]
    }
   ],
   "source": [
    "n = str(input('Digite o seu nome completo ')).strip().title()\n",
    "nome = n.split()\n",
    "print('Prazer em conhecer, {}!'.format(n))\n",
    "print('Seu primeiro nome é {}'.format(nome[0]))\n",
    "print('Seu último nome é: {}'.format(nome[len(nome)-1]))\n",
    "print(n.split())"
   ]
  },
  {
   "cell_type": "code",
   "execution_count": null,
   "id": "b89781dc-ed2d-45c3-8def-f76797208180",
   "metadata": {},
   "outputs": [],
   "source": []
  }
 ],
 "metadata": {
  "kernelspec": {
   "display_name": "Python 3 (ipykernel)",
   "language": "python",
   "name": "python3"
  },
  "language_info": {
   "codemirror_mode": {
    "name": "ipython",
    "version": 3
   },
   "file_extension": ".py",
   "mimetype": "text/x-python",
   "name": "python",
   "nbconvert_exporter": "python",
   "pygments_lexer": "ipython3",
   "version": "3.11.7"
  }
 },
 "nbformat": 4,
 "nbformat_minor": 5
}
