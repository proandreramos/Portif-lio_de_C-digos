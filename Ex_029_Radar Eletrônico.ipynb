{
 "cells": [
  {
   "cell_type": "markdown",
   "id": "a8d4bd31-2db9-40bb-af3e-b78e6399998b",
   "metadata": {},
   "source": [
    "### Escreva um programa que leia a velocidade de um carro. Se ele ultrapassar 80 km/h, mostre uma\n",
    "### mensagem dizendo que ele foi multado.A multa vai custar R$7,00 por cada km acima do limite"
   ]
  },
  {
   "cell_type": "code",
   "execution_count": 1,
   "id": "44f52d6e-8d28-4d75-aa0e-9fafd93f9aa1",
   "metadata": {},
   "outputs": [
    {
     "name": "stdin",
     "output_type": "stream",
     "text": [
      "Qual é a velocidade atual do carro? 81\n"
     ]
    },
    {
     "name": "stdout",
     "output_type": "stream",
     "text": [
      "MULTADO!\n",
      "Você excedeu o limite de velocidade em 1.0 km/h.\n",
      "Foi multado em R$ 7.00\n"
     ]
    }
   ],
   "source": [
    "velocidade = float(input('Qual é a velocidade atual do carro?'))\n",
    "if velocidade <= 80:\n",
    "    print('Está tudo em certo, boa viagem!')\n",
    "else:\n",
    "    print('MULTADO!\\n'\n",
    "          'Você excedeu o limite de velocidade em {} km/h.'\n",
    "          '\\nFoi multado em R$ {:.2f}'.format(velocidade - 80, (velocidade - 80) * 7))"
   ]
  },
  {
   "cell_type": "code",
   "execution_count": null,
   "id": "64b33389-33fd-42cf-9bdc-72be0462ad46",
   "metadata": {},
   "outputs": [],
   "source": []
  }
 ],
 "metadata": {
  "kernelspec": {
   "display_name": "Python 3 (ipykernel)",
   "language": "python",
   "name": "python3"
  },
  "language_info": {
   "codemirror_mode": {
    "name": "ipython",
    "version": 3
   },
   "file_extension": ".py",
   "mimetype": "text/x-python",
   "name": "python",
   "nbconvert_exporter": "python",
   "pygments_lexer": "ipython3",
   "version": "3.11.7"
  }
 },
 "nbformat": 4,
 "nbformat_minor": 5
}
