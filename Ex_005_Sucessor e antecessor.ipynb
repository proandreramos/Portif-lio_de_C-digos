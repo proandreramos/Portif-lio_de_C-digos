{
 "cells": [
  {
   "cell_type": "markdown",
   "id": "70aedbc3-bea5-48b7-825a-17b0151dc494",
   "metadata": {},
   "source": [
    "# 05: Faça um programa que leia um número inteiro e mostre na tela o seu sucessor e antecessor"
   ]
  },
  {
   "cell_type": "code",
   "execution_count": 4,
   "id": "da09f515-4cb3-4b51-bc74-046dddaf0895",
   "metadata": {},
   "outputs": [
    {
     "name": "stdin",
     "output_type": "stream",
     "text": [
      "Digite um número inteiro : 45\n"
     ]
    },
    {
     "name": "stdout",
     "output_type": "stream",
     "text": [
      "Você digitou o número 45. Seu sucessor é 46 e o antecessor 44\n"
     ]
    }
   ],
   "source": [
    "Numero = int(input('Digite um número inteiro :'))\n",
    "print('Você digitou o número {}. Seu sucessor é {} e o antecessor {}'.format(Numero, Numero + 1, Numero - 1))\n",
    "\n",
    "# Pode ser feito também atribuindo variáveis para o sucessor e antecessor."
   ]
  },
  {
   "cell_type": "code",
   "execution_count": null,
   "id": "b13cc4c3-fd74-4c63-8f2f-657fb2288f45",
   "metadata": {},
   "outputs": [],
   "source": []
  }
 ],
 "metadata": {
  "kernelspec": {
   "display_name": "Python 3 (ipykernel)",
   "language": "python",
   "name": "python3"
  },
  "language_info": {
   "codemirror_mode": {
    "name": "ipython",
    "version": 3
   },
   "file_extension": ".py",
   "mimetype": "text/x-python",
   "name": "python",
   "nbconvert_exporter": "python",
   "pygments_lexer": "ipython3",
   "version": "3.11.7"
  }
 },
 "nbformat": 4,
 "nbformat_minor": 5
}
