{
 "cells": [
  {
   "cell_type": "markdown",
   "id": "893618aa-210a-412d-95fb-830d9464e562",
   "metadata": {},
   "source": [
    "### Faça um programa que leia um ângulo qualquer e mostre na tela o valor do seno, cosseno e tangente desse ângulo."
   ]
  },
  {
   "cell_type": "code",
   "execution_count": 1,
   "id": "ef45b7f9-b67b-469a-94a7-f1513e0d5ac5",
   "metadata": {},
   "outputs": [
    {
     "data": {
      "text/plain": [
       "\"import math\\nan = float(input('Digite o ângulo que você deseja'))\\nsin = math.sin(math.radians(an))\\ncos = math.cos(math.radians(an)) \\ntan = math.tan(math.radians(an))\\nprint('O ângulo de {:.1f}° tem \\nO Seno de {:.2f},\\nCosseno {:.2f}\\nTangente de {:.2f}'.format(an,sin,cos,tan))\""
      ]
     },
     "execution_count": 1,
     "metadata": {},
     "output_type": "execute_result"
    }
   ],
   "source": [
    "\"\"\"import math\n",
    "an = float(input('Digite o ângulo que você deseja'))\n",
    "sin = math.sin(math.radians(an))\n",
    "cos = math.cos(math.radians(an)) \n",
    "tan = math.tan(math.radians(an))\n",
    "print('O ângulo de {:.1f}° tem \\nO Seno de {:.2f},\\nCosseno {:.2f}\\nTangente de {:.2f}'.format(an,sin,cos,tan))\"\"\""
   ]
  },
  {
   "cell_type": "code",
   "execution_count": 3,
   "id": "a0b490c3-790b-483d-81b1-a3b82e123f8d",
   "metadata": {},
   "outputs": [],
   "source": [
    "# Obs.: É preciso converter o ângulo para radianos antes de realizar os cálculos."
   ]
  },
  {
   "cell_type": "code",
   "execution_count": 6,
   "id": "19ccd727-eb5a-4e45-bda3-008267e172f2",
   "metadata": {},
   "outputs": [
    {
     "name": "stdin",
     "output_type": "stream",
     "text": [
      "Digite o ângulo que você deseja:  45\n"
     ]
    },
    {
     "name": "stdout",
     "output_type": "stream",
     "text": [
      "Ângulo:45.00\n",
      "Seno:0.71\n",
      "Cosseno:0.71\n",
      "Tangente1.00\n"
     ]
    }
   ],
   "source": [
    "from math import sin, cos, tan, radians\n",
    "an = float(input('Digite o ângulo que você deseja: '))\n",
    "sin = sin(radians(an))\n",
    "cos = cos(radians(an))\n",
    "tang = tan(radians(an))\n",
    "print('Ângulo:{:.2f}\\nSeno:{:.2f}\\nCosseno:{:.2f}\\nTangente{:.2f}'.format(an,sin,cos,tang))"
   ]
  },
  {
   "cell_type": "code",
   "execution_count": null,
   "id": "f82eef4d-9bd8-4e68-96e8-83e77308b9d7",
   "metadata": {},
   "outputs": [],
   "source": []
  }
 ],
 "metadata": {
  "kernelspec": {
   "display_name": "Python 3 (ipykernel)",
   "language": "python",
   "name": "python3"
  },
  "language_info": {
   "codemirror_mode": {
    "name": "ipython",
    "version": 3
   },
   "file_extension": ".py",
   "mimetype": "text/x-python",
   "name": "python",
   "nbconvert_exporter": "python",
   "pygments_lexer": "ipython3",
   "version": "3.11.7"
  }
 },
 "nbformat": 4,
 "nbformat_minor": 5
}
