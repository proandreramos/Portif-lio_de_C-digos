{
 "cells": [
  {
   "cell_type": "code",
   "execution_count": null,
   "id": "cfa7d85a-4d77-4d13-8e21-d39f63d5cc0a",
   "metadata": {},
   "outputs": [],
   "source": [
    "# Crie um programa que leia um número Real qualquer e mostre na tela sua porção inteira"
   ]
  },
  {
   "cell_type": "code",
   "execution_count": 7,
   "id": "1031c772-00e1-42d2-8669-731635ac43dc",
   "metadata": {},
   "outputs": [
    {
     "name": "stdin",
     "output_type": "stream",
     "text": [
      "Digite um número Real 3.1415\n"
     ]
    },
    {
     "name": "stdout",
     "output_type": "stream",
     "text": [
      "Você digitou o número 3.1415 , a parte inteira é 3\n"
     ]
    }
   ],
   "source": [
    "r = float(input('Digite um número Real'))\n",
    "real = int(r)\n",
    "print('Você digitou o número {} , a parte inteira é {}'.format(r,real))"
   ]
  },
  {
   "cell_type": "code",
   "execution_count": null,
   "id": "affa7fe9-a944-4af3-8527-828f994b64ba",
   "metadata": {},
   "outputs": [],
   "source": [
    "# Também é possível fazer importando a biblioteca math e utilizando a função math.trunc(real)."
   ]
  },
  {
   "cell_type": "code",
   "execution_count": 5,
   "id": "cd33dbd2-62c8-4460-b5e2-29690c5ddf73",
   "metadata": {},
   "outputs": [
    {
     "name": "stdin",
     "output_type": "stream",
     "text": [
      "Digite um número Real 3.141516\n"
     ]
    },
    {
     "name": "stdout",
     "output_type": "stream",
     "text": [
      "A parte inteira do número real digitado (3.141516) é: 3\n"
     ]
    }
   ],
   "source": [
    "import math\n",
    "r = float(input('Digite um número Real'))\n",
    "print('A parte inteira do número real digitado ({}) é: {}'.format(r,math.trunc(r)))"
   ]
  },
  {
   "cell_type": "code",
   "execution_count": null,
   "id": "f79d88c4-1057-44da-9e08-8beaebd4e88f",
   "metadata": {},
   "outputs": [],
   "source": [
    "# Ou importar apenas a função trunc: \"from math import trunc\". Isso economiza memória e processamento."
   ]
  }
 ],
 "metadata": {
  "kernelspec": {
   "display_name": "Python 3 (ipykernel)",
   "language": "python",
   "name": "python3"
  },
  "language_info": {
   "codemirror_mode": {
    "name": "ipython",
    "version": 3
   },
   "file_extension": ".py",
   "mimetype": "text/x-python",
   "name": "python",
   "nbconvert_exporter": "python",
   "pygments_lexer": "ipython3",
   "version": "3.11.7"
  }
 },
 "nbformat": 4,
 "nbformat_minor": 5
}
