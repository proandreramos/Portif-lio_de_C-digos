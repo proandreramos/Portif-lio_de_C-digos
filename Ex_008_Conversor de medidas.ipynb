{
 "cells": [
  {
   "cell_type": "code",
   "execution_count": null,
   "id": "0c5d6c6e-2902-4286-a117-f68260d4e00b",
   "metadata": {},
   "outputs": [],
   "source": [
    "#008 Escreva um programa que leia um valor em metros e o exiba convertido em centímetro e milimetros."
   ]
  },
  {
   "cell_type": "code",
   "execution_count": 5,
   "id": "f132afe1-620d-4bbc-b859-6c900b78c668",
   "metadata": {},
   "outputs": [
    {
     "name": "stdin",
     "output_type": "stream",
     "text": [
      "Digite a quantidade de metros para conversão:  3\n"
     ]
    },
    {
     "name": "stdout",
     "output_type": "stream",
     "text": [
      "O valor de 3.0 metro(s) equivale a: \n",
      "300.0 centímetros\n",
      "3000.0 milímetros.\n"
     ]
    }
   ],
   "source": [
    "m = float(input('Digite a quantidade de metros para conversão: '))\n",
    "cm = m*100\n",
    "mm = m*1000\n",
    "print('O valor de {} metro(s) equivale a: \\n{} centímetros\\n{} milímetros.'.format(m, cm, mm))"
   ]
  },
  {
   "cell_type": "code",
   "execution_count": null,
   "id": "9bd93fcf-b720-4b6a-8eb2-f738294481a5",
   "metadata": {},
   "outputs": [],
   "source": []
  }
 ],
 "metadata": {
  "kernelspec": {
   "display_name": "Python 3 (ipykernel)",
   "language": "python",
   "name": "python3"
  },
  "language_info": {
   "codemirror_mode": {
    "name": "ipython",
    "version": 3
   },
   "file_extension": ".py",
   "mimetype": "text/x-python",
   "name": "python",
   "nbconvert_exporter": "python",
   "pygments_lexer": "ipython3",
   "version": "3.11.7"
  }
 },
 "nbformat": 4,
 "nbformat_minor": 5
}
