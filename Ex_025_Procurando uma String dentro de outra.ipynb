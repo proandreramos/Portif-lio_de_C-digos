{
 "cells": [
  {
   "cell_type": "markdown",
   "id": "204b3908-ad2c-402d-ab8c-f500c605dac1",
   "metadata": {},
   "source": [
    "## Crie um programa que leia o nome de uma pessoa e diga se ela tem 'SILVA' no nome\r",
    "## Obs: fatiar as strings facilita no momento das buscas"
   ]
  },
  {
   "cell_type": "code",
   "execution_count": 1,
   "id": "531ef99c-e1d9-4831-8046-d5061435f3a9",
   "metadata": {},
   "outputs": [
    {
     "name": "stdin",
     "output_type": "stream",
     "text": [
      "Digite o seu nome completo: andré luiz silva\n"
     ]
    },
    {
     "name": "stdout",
     "output_type": "stream",
     "text": [
      "Seu nome tem Silva?True\n"
     ]
    }
   ],
   "source": [
    "nome = input('Digite o seu nome completo:').strip()\n",
    "print('Seu nome tem Silva?{}'.format('SILVA' in nome.upper()))"
   ]
  },
  {
   "cell_type": "code",
   "execution_count": null,
   "id": "202adcbe-8eef-4a86-8e52-715ae4e507bb",
   "metadata": {},
   "outputs": [],
   "source": [
    "#transformar tudo em maíusculo facilita na hora das operações, evita erros de digitação."
   ]
  }
 ],
 "metadata": {
  "kernelspec": {
   "display_name": "Python 3 (ipykernel)",
   "language": "python",
   "name": "python3"
  },
  "language_info": {
   "codemirror_mode": {
    "name": "ipython",
    "version": 3
   },
   "file_extension": ".py",
   "mimetype": "text/x-python",
   "name": "python",
   "nbconvert_exporter": "python",
   "pygments_lexer": "ipython3",
   "version": "3.11.7"
  }
 },
 "nbformat": 4,
 "nbformat_minor": 5
}
