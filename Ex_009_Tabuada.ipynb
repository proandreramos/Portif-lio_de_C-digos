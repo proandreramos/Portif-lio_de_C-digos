{
 "cells": [
  {
   "cell_type": "code",
   "execution_count": null,
   "id": "8419a028-378f-4d74-b4db-045a03db3e81",
   "metadata": {},
   "outputs": [],
   "source": [
    "#009: Faça um programa que leia um número inteiro qualquer e mostre na tela a sua tabuada"
   ]
  },
  {
   "cell_type": "code",
   "execution_count": 11,
   "id": "52e93ea8-95dc-4823-b79f-5f476c476322",
   "metadata": {},
   "outputs": [
    {
     "name": "stdin",
     "output_type": "stream",
     "text": [
      "Digite um número para saber sua tabuada: 5\n"
     ]
    },
    {
     "name": "stdout",
     "output_type": "stream",
     "text": [
      "Você digitou o número 5. Sua tabuada é:\n",
      "5 x 01 = 5\n",
      "5 x 02 = 10\n",
      "5 x 03 = 15\n",
      "5 x 04 = 20\n",
      "5 x 05 = 25\n",
      "5 x 06 = 30\n",
      "5 x 07 = 35\n",
      "5 x 08 = 40\n",
      "5 x 09 = 45\n",
      "5 x 10 = 50\n"
     ]
    }
   ],
   "source": [
    "n = int(input('Digite um número para saber sua tabuada:'))\n",
    "print('Você digitou o número {}. Sua tabuada é:'.format(n))\n",
    "print('{} x 01 = {}'.format(n, n*1))\n",
    "print('{} x 02 = {}'.format(n, n*2))\n",
    "print('{} x 03 = {}'.format(n, n*3))\n",
    "print('{} x 04 = {}'.format(n, n*4))\n",
    "print('{} x 05 = {}'.format(n, n*5))\n",
    "print('{} x 06 = {}'.format(n, n*6))\n",
    "print('{} x 07 = {}'.format(n, n*7))\n",
    "print('{} x 08 = {}'.format(n, n*8))\n",
    "print('{} x 09 = {}'.format(n, n*9))\n",
    "print('{} x 10 = {}'.format(n, n*10))\n"
   ]
  },
  {
   "cell_type": "code",
   "execution_count": 20,
   "id": "a908eb75-e929-4604-8244-48ec4a451ca6",
   "metadata": {},
   "outputs": [
    {
     "name": "stdin",
     "output_type": "stream",
     "text": [
      "Digite um número: 7\n"
     ]
    },
    {
     "name": "stdout",
     "output_type": "stream",
     "text": [
      "===============\n",
      " 7 x  1 =   7\n",
      " 7 x  2 =  14\n",
      " 7 x  3 =  21\n",
      " 7 x  4 =  28\n",
      " 7 x  5 =  35\n",
      " 7 x  6 =  42\n",
      " 7 x  7 =  49\n",
      " 7 x  8 =  56\n",
      " 7 x  9 =  63\n",
      " 7 x 10 =  70\n",
      " 7 x 11 =  77\n",
      " 7 x 12 =  84\n",
      "===============\n"
     ]
    }
   ],
   "source": [
    "n = int(input('Digite um número:'))\n",
    "print('=' * 15) \n",
    "print('{:2} x {:2} = {:3}'.format(n, 1, n*1))\n",
    "print('{:2} x {:2} = {:3}'.format(n, 2, n*2))\n",
    "print('{:2} x {:2} = {:3}'.format(n, 3, n*3))\n",
    "print('{:2} x {:2} = {:3}'.format(n, 4, n*4))\n",
    "print('{:2} x {:2} = {:3}'.format(n, 5, n*5))\n",
    "print('{:2} x {:2} = {:3}'.format(n, 6, n*6))\n",
    "print('{:2} x {:2} = {:3}'.format(n, 7, n*7))\n",
    "print('{:2} x {:2} = {:3}'.format(n, 8, n*8))\n",
    "print('{:2} x {:2} = {:3}'.format(n, 9, n*9))\n",
    "print('{:2} x {:2} = {:3}'.format(n, 10, n*10))\n",
    "print('{:2} x {:2} = {:3}'.format(n, 11, n*11))\n",
    "print('{:2} x {:2} = {:3}'.format(n, 12, n*12))\n",
    "print('=' * 15) \n",
    "\n",
    "# o número após os dois pontos indica os espaços que os números irão ocupar. No exemplo, duas casas (dezena) e três casas (centena).\n",
    "# o comando print('_'*12) serve para formatar o início e o fim , melhorando a estética. "
   ]
  },
  {
   "cell_type": "code",
   "execution_count": null,
   "id": "1ae28e48-f7be-4a4a-b2b3-67e16ed6bf58",
   "metadata": {},
   "outputs": [],
   "source": [
    "# É possível também fazer a tabuada usando o Loop for que no momento é avançado demais pra mim (11/09/2024 - 18h55)"
   ]
  }
 ],
 "metadata": {
  "kernelspec": {
   "display_name": "Python 3 (ipykernel)",
   "language": "python",
   "name": "python3"
  },
  "language_info": {
   "codemirror_mode": {
    "name": "ipython",
    "version": 3
   },
   "file_extension": ".py",
   "mimetype": "text/x-python",
   "name": "python",
   "nbconvert_exporter": "python",
   "pygments_lexer": "ipython3",
   "version": "3.11.7"
  }
 },
 "nbformat": 4,
 "nbformat_minor": 5
}
