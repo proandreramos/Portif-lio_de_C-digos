{
 "cells": [
  {
   "cell_type": "code",
   "execution_count": null,
   "id": "270dc751-4fa5-4433-9406-264dac6a30e0",
   "metadata": {},
   "outputs": [],
   "source": [
    "# Exercício 004: Faça um programa que leia algo pelo teclado e mostre na tela o seu tipo primitivo \n",
    "#e todas as informações possíveis sobre ela."
   ]
  },
  {
   "cell_type": "code",
   "execution_count": 10,
   "id": "74481215-01a0-4535-8d5c-914f3d601975",
   "metadata": {},
   "outputs": [
    {
     "name": "stdin",
     "output_type": "stream",
     "text": [
      "Digite algo André Luiz Ramos 45\n"
     ]
    },
    {
     "name": "stdout",
     "output_type": "stream",
     "text": [
      "O tipo primitivo deste valor é: <class 'str'>\n",
      "Só tem espaços? False\n",
      "É um número? False\n",
      "É alfabético? False\n",
      "É alfanumérico? False\n",
      "Está em maiúsculas? False\n",
      "Está em minúsculas? False\n",
      "Está capitalizada? True\n"
     ]
    }
   ],
   "source": [
    "# A função input retorna sempre uma string\n",
    "Dado = input('Digite algo')\n",
    "print ('O tipo primitivo deste valor é:',type(Dado))\n",
    "print ('Só tem espaços?',Dado.isspace())\n",
    "print ('É um número?',Dado.isnumeric())\n",
    "print ('É alfabético?', Dado.isalpha())\n",
    "print ('É alfanumérico?',Dado.isalnum())\n",
    "print ('Está em maiúsculas?',Dado.isupper())\n",
    "print ('Está em minúsculas?',Dado.islower())\n",
    "print ('Está capitalizada?',Dado.istitle())\n"
   ]
  },
  {
   "cell_type": "code",
   "execution_count": null,
   "id": "e939d89b-1630-4da6-9cfe-2d06cee97ad5",
   "metadata": {},
   "outputs": [],
   "source": []
  },
  {
   "cell_type": "code",
   "execution_count": null,
   "id": "3afa2109-6ae4-4d47-bc74-6cfa4858c404",
   "metadata": {},
   "outputs": [],
   "source": []
  }
 ],
 "metadata": {
  "kernelspec": {
   "display_name": "Python 3 (ipykernel)",
   "language": "python",
   "name": "python3"
  },
  "language_info": {
   "codemirror_mode": {
    "name": "ipython",
    "version": 3
   },
   "file_extension": ".py",
   "mimetype": "text/x-python",
   "name": "python",
   "nbconvert_exporter": "python",
   "pygments_lexer": "ipython3",
   "version": "3.11.7"
  }
 },
 "nbformat": 4,
 "nbformat_minor": 5
}
