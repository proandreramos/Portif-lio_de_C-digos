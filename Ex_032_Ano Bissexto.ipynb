{
 "cells": [
  {
   "cell_type": "markdown",
   "id": "9558460d-480c-443e-bc78-a65b538a2f44",
   "metadata": {},
   "source": [
    "### 32: Faça um programa que leia um ano qualquer e mostre se ele é bissexto."
   ]
  },
  {
   "cell_type": "code",
   "execution_count": 11,
   "id": "a9cd935a-c290-4636-a517-b091578fb62c",
   "metadata": {},
   "outputs": [
    {
     "name": "stdin",
     "output_type": "stream",
     "text": [
      "Que ano quer analisar? Coloque \"0\" para o ano atual:  399\n"
     ]
    },
    {
     "name": "stdout",
     "output_type": "stream",
     "text": [
      "+-+-+-+-+-+-+-+-+-+-+-+-+-+-+-+-+-+-+-+-\n",
      "O ano 399 NÃO É BISSEXTO\n"
     ]
    }
   ],
   "source": [
    "from datetime import date\n",
    "ano = (int(input('Que ano quer analisar? Coloque \"0\" para o ano atual: ')))\n",
    "print('+-+-' * 10)\n",
    "if ano == 0:\n",
    "       ano = date.today().year\n",
    "if ano % 4 == 0 and ano % 100 != 0 or ano % 400 == 0 : #*\n",
    "    print('O ano {} é BISSEXTO!'.format(ano))\n",
    "else:\n",
    "    print('O ano {} NÃO É BISSEXTO'.format(ano))\n",
    "\n",
    "#Chama-se ano bissexto o ano ao qual é acrescentado um dia extra, ficando com 366 dias, um dia a mais do que os anos\n",
    "# normais de 365 dias, ocorrendo a cada quatro anos (exceto anos múltiplos de 100 que não são múltiplos de 400)"
   ]
  },
  {
   "cell_type": "code",
   "execution_count": null,
   "id": "171abad0-3b00-42cd-bd20-576c7aa8cd0a",
   "metadata": {},
   "outputs": [],
   "source": []
  }
 ],
 "metadata": {
  "kernelspec": {
   "display_name": "Python 3 (ipykernel)",
   "language": "python",
   "name": "python3"
  },
  "language_info": {
   "codemirror_mode": {
    "name": "ipython",
    "version": 3
   },
   "file_extension": ".py",
   "mimetype": "text/x-python",
   "name": "python",
   "nbconvert_exporter": "python",
   "pygments_lexer": "ipython3",
   "version": "3.11.7"
  }
 },
 "nbformat": 4,
 "nbformat_minor": 5
}
