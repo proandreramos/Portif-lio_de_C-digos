{
 "cells": [
  {
   "cell_type": "code",
   "execution_count": null,
   "id": "651955da-c716-4d29-9810-6bdbc1fca990",
   "metadata": {},
   "outputs": [],
   "source": [
    "# Escreva um programa que pergunte a quantidade de km percorrido por um carro e a quantidade de dias pela qual ele foi alugado.\n",
    "# Calcule o preço a pagar , sabendo que o carro custa R$ 60 a diária e R$ 0.15 o km rodado"
   ]
  },
  {
   "cell_type": "code",
   "execution_count": 6,
   "id": "15bf0fcc-64d4-4a36-a4e1-30ab015fc0aa",
   "metadata": {},
   "outputs": [
    {
     "name": "stdin",
     "output_type": "stream",
     "text": [
      "Quantos dias alugados?  1\n",
      "Quantos km percorridos?  1\n"
     ]
    },
    {
     "name": "stdout",
     "output_type": "stream",
     "text": [
      "O total a pagar é de R$ 60.15 \n"
     ]
    }
   ],
   "source": [
    "dias = int(input('Quantos dias alugados? '))\n",
    "km = float(input('Quantos km percorridos? '))\n",
    "diaria = 60\n",
    "distancia = 0.15\n",
    "t = (dias * diaria) + (distancia * km)\n",
    "print('O total a pagar é de R$ {} '.format(t))"
   ]
  },
  {
   "cell_type": "code",
   "execution_count": null,
   "id": "f399b958-b60b-4c36-82c8-0a5a10779535",
   "metadata": {},
   "outputs": [],
   "source": []
  }
 ],
 "metadata": {
  "kernelspec": {
   "display_name": "Python 3 (ipykernel)",
   "language": "python",
   "name": "python3"
  },
  "language_info": {
   "codemirror_mode": {
    "name": "ipython",
    "version": 3
   },
   "file_extension": ".py",
   "mimetype": "text/x-python",
   "name": "python",
   "nbconvert_exporter": "python",
   "pygments_lexer": "ipython3",
   "version": "3.11.7"
  }
 },
 "nbformat": 4,
 "nbformat_minor": 5
}
