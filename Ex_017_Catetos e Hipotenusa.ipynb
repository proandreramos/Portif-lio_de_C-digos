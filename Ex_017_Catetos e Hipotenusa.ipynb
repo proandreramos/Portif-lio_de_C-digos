{
 "cells": [
  {
   "cell_type": "markdown",
   "id": "84d63509-f95c-459d-9787-c869caa73e44",
   "metadata": {},
   "source": [
    "## 017 - Faça um programa que leia o comprimento do cateto oposto e do cateto adjacente de um triângulo retângulo.\n",
    "## Calcule e mostre o comprimento da hipotenusa"
   ]
  },
  {
   "cell_type": "code",
   "execution_count": 4,
   "id": "a63482e8-1075-45bd-9c46-29b399fcca9f",
   "metadata": {},
   "outputs": [
    {
     "name": "stdin",
     "output_type": "stream",
     "text": [
      "Digite o comprimento do Cateto Oposto: 4\n",
      "Digite o comprimento do Cateto Adjacente: 5\n"
     ]
    },
    {
     "name": "stdout",
     "output_type": "stream",
     "text": [
      "O comprimento da hipotenusa é 6.40\n"
     ]
    }
   ],
   "source": [
    "from math import hypot \n",
    "co = float(input('Digite o comprimento do Cateto Oposto:'))\n",
    "ca = float(input('Digite o comprimento do Cateto Adjacente:'))\n",
    "hip = hypot(co,ca)\n",
    "print('O comprimento da hipotenusa é {:.2f}'.format(hip))"
   ]
  },
  {
   "cell_type": "code",
   "execution_count": null,
   "id": "445a02a0-07e8-42c8-beae-262fad8a6169",
   "metadata": {},
   "outputs": [],
   "source": []
  },
  {
   "cell_type": "markdown",
   "id": "bee21a99-dad3-4c01-90a1-de63093b9260",
   "metadata": {},
   "source": [
    "### Resolução de forma matemática (usando a fórmula 'Quadrado da hipotenusa é igual a soma do quadrado dos catetos')"
   ]
  },
  {
   "cell_type": "code",
   "execution_count": 5,
   "id": "4a061247-b842-4c8a-8005-1061e56f8976",
   "metadata": {},
   "outputs": [
    {
     "name": "stdin",
     "output_type": "stream",
     "text": [
      "Digite o comprimento do Cateto Oposto: 4\n",
      "Digite o comprimento do Cateto Adjacente: 5\n"
     ]
    },
    {
     "name": "stdout",
     "output_type": "stream",
     "text": [
      "O comprimento da hipotenusa é 6.40\n"
     ]
    }
   ],
   "source": [
    "co = float(input('Digite o comprimento do Cateto Oposto:'))\n",
    "ca = float(input('Digite o comprimento do Cateto Adjacente:'))\n",
    "hip = (co ** 2 + ca ** 2) ** (1/2)\n",
    "print('O comprimento da hipotenusa é {:.2f}'.format(hip))"
   ]
  },
  {
   "cell_type": "code",
   "execution_count": null,
   "id": "66f80486-0cc2-449b-8d0f-a75695d57886",
   "metadata": {},
   "outputs": [],
   "source": []
  }
 ],
 "metadata": {
  "kernelspec": {
   "display_name": "Python 3 (ipykernel)",
   "language": "python",
   "name": "python3"
  },
  "language_info": {
   "codemirror_mode": {
    "name": "ipython",
    "version": 3
   },
   "file_extension": ".py",
   "mimetype": "text/x-python",
   "name": "python",
   "nbconvert_exporter": "python",
   "pygments_lexer": "ipython3",
   "version": "3.11.7"
  }
 },
 "nbformat": 4,
 "nbformat_minor": 5
}
