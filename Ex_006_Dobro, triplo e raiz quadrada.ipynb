{
 "cells": [
  {
   "cell_type": "markdown",
   "id": "e3d737bd-f235-446b-83c3-ceb61f9cf95d",
   "metadata": {},
   "source": [
    "# 006: Crie um algoritmo que leia um número e mostre o seu dobro, triplo e raiz quadrada"
   ]
  },
  {
   "cell_type": "code",
   "execution_count": 7,
   "id": "c52e5ca2-5c47-4634-a062-5eca1ded3e78",
   "metadata": {},
   "outputs": [
    {
     "name": "stdin",
     "output_type": "stream",
     "text": [
      "Digite um número:  16\n"
     ]
    },
    {
     "name": "stdout",
     "output_type": "stream",
     "text": [
      "Você digitou o número 16: \n",
      "O dobro do seu valor é 32, \n",
      "O triplo é igual a 48 \n",
      "e sua raiz quadrada é 4.0000,\n"
     ]
    }
   ],
   "source": [
    "n = int(input('Digite um número: '))\n",
    "print('Você digitou o número {}: \\nO dobro do seu valor é {}, \\nO triplo é igual a {} \\ne sua raiz quadrada é {:.4f},'.format(n, n*2, n*3, n**(1/2)))\n",
    "\n",
    "#Obs.: também pode ser resolvido utilizando variáveis para o dobro, triplo e raiz quadrada. Também há a função 'squareroot'(sqrt) na biblioteca math.\n",
    "# math.sqrt()"
   ]
  },
  {
   "cell_type": "code",
   "execution_count": null,
   "id": "6c477b90-0942-410b-baa0-1dff9946baea",
   "metadata": {},
   "outputs": [],
   "source": []
  }
 ],
 "metadata": {
  "kernelspec": {
   "display_name": "Python 3 (ipykernel)",
   "language": "python",
   "name": "python3"
  },
  "language_info": {
   "codemirror_mode": {
    "name": "ipython",
    "version": 3
   },
   "file_extension": ".py",
   "mimetype": "text/x-python",
   "name": "python",
   "nbconvert_exporter": "python",
   "pygments_lexer": "ipython3",
   "version": "3.11.7"
  }
 },
 "nbformat": 4,
 "nbformat_minor": 5
}
