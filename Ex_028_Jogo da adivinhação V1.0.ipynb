{
 "cells": [
  {
   "cell_type": "markdown",
   "id": "fe2b34e1-076c-4fef-877f-3a26279e792a",
   "metadata": {},
   "source": [
    "## Escreva um programa que faça o computador \"pensar\" em um número inteiro entre 0 e 5 e peça para o\n",
    "## usuário descobrir qual foi o número escolhido pelo computador. O programa deverá escrever na tela se o usuário\n",
    "## venceu ou perdeu"
   ]
  },
  {
   "cell_type": "code",
   "execution_count": 26,
   "id": "bc596788-8bde-4924-be49-bc6c54b69085",
   "metadata": {},
   "outputs": [
    {
     "name": "stdout",
     "output_type": "stream",
     "text": [
      "-=-=-=-=-=-=-=-=-=-=-=-=-=-=-=-=-=-=-=-=-=-=-=-=-=-=-=-=-=-=-=-=-=-=-=-=-=-=-=-=-=-=-=-=-=\n",
      "Vou pensar em um número entre 0 e 5, tente adivinhar...\n",
      "-=-=-=-=-=-=-=-=-=-=-=-=-=-=-=-=-=-=-=-=-=-=-=-=-=-=-=-=-=-=-=-=-=-=-=-=-=-=-=-=-=-=-=-=-=\n"
     ]
    },
    {
     "name": "stdin",
     "output_type": "stream",
     "text": [
      "Em que número eu pensei? 3\n"
     ]
    },
    {
     "name": "stdout",
     "output_type": "stream",
     "text": [
      "P R O C E S S A N D O\n",
      "Pensei no número 2\n",
      "Você errou! Você colocou 3 e eu pensei 2.\n",
      "-=-=-=-=-=-=-=-=-=-=-=-=-=-=-=-=-=-=-=-=-=-=-=-=-=-=-=-=-=-=-=-=-=-=-=-=-=-=-=-=-=-=-=-=-=\n"
     ]
    }
   ],
   "source": [
    "from random import randint\n",
    "from time import sleep\n",
    "computador = randint(0,5)\n",
    "print('-=-=-=' * 15)\n",
    "print('Vou pensar em um número entre 0 e 5, tente adivinhar...')\n",
    "print('-=-=-=' * 15)\n",
    "jogador = int(input('Em que número eu pensei?' ))   \n",
    "print('P R O C E S S A N D O' )\n",
    "sleep (2)\n",
    "print('Pensei no número {}'.format(computador))\n",
    "if jogador == computador:\n",
    "    print('Parabéns, você acertou! Você colocou número {} então pensamos no mesmo número! PARABÉNS!'.format(jogador))\n",
    "else:\n",
    "    print('Você errou! Você colocou {} e eu pensei {}.'.format(jogador,computador))\n",
    "print('-=-=-=' * 15)"
   ]
  },
  {
   "cell_type": "code",
   "execution_count": null,
   "id": "4a656384-c07a-4b4d-a0c2-242a63578ece",
   "metadata": {},
   "outputs": [],
   "source": []
  }
 ],
 "metadata": {
  "kernelspec": {
   "display_name": "Python 3 (ipykernel)",
   "language": "python",
   "name": "python3"
  },
  "language_info": {
   "codemirror_mode": {
    "name": "ipython",
    "version": 3
   },
   "file_extension": ".py",
   "mimetype": "text/x-python",
   "name": "python",
   "nbconvert_exporter": "python",
   "pygments_lexer": "ipython3",
   "version": "3.11.7"
  }
 },
 "nbformat": 4,
 "nbformat_minor": 5
}
