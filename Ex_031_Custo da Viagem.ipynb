{
 "cells": [
  {
   "cell_type": "markdown",
   "id": "5432d746-e24c-4108-a792-1c743de5d709",
   "metadata": {},
   "source": [
    "### 31: Desenvolva um programa que pergunte a distância de uma viagem em Km. Calcule o preço da passagem,\n",
    "### cobrando R$ 0,50 por Km para viagens de até 200Km e R$0,45 para viagens mais longas."
   ]
  },
  {
   "cell_type": "code",
   "execution_count": 10,
   "id": "73239a6c-27a2-45e2-b2f6-4626424cc712",
   "metadata": {},
   "outputs": [
    {
     "name": "stdin",
     "output_type": "stream",
     "text": [
      "Qual a distância da viagem?  201\n"
     ]
    },
    {
     "name": "stdout",
     "output_type": "stream",
     "text": [
      "Você está prestes a começar uma viagem de 201.0 km.\n",
      "O valor de sua viagem é de R$ 90.45\n"
     ]
    }
   ],
   "source": [
    "'''distancia = float(input('Qual a distância da viagem? '))\n",
    "preco_ate_200 = 0.50\n",
    "preco_acima_200 = 0.45\n",
    "print('Você está prestes a começar uma viagem de {} km.'.format(distancia))\n",
    "if distancia <= 200:\n",
    "    print('O valor de sua viagem é de R$ {:.2f}'.format(preco_ate_200 * distancia))\n",
    "else:\n",
    "    print('O valor de sua viagem é de R$ {:.2f}'.format(preco_acima_200 * distancia))'''\n"
   ]
  },
  {
   "cell_type": "markdown",
   "id": "d008f077-613e-4182-92d1-4170aea02ee6",
   "metadata": {},
   "source": [
    "## Usando o if de forma simplificada: "
   ]
  },
  {
   "cell_type": "code",
   "execution_count": 29,
   "id": "3035ea44-dfb4-4ff9-a5da-357b093feb45",
   "metadata": {},
   "outputs": [
    {
     "name": "stdin",
     "output_type": "stream",
     "text": [
      "Insira a distância de sua viagem 222.25\n"
     ]
    },
    {
     "name": "stdout",
     "output_type": "stream",
     "text": [
      "_-_-_-_-_-_-_-_-_-_-_-_-_-_-_-_-_-_-_-_-_-_-_-_-_-_-_-_-_-_-\n",
      "Você está prestes a começar uma viagem de 222.25 kms.\n",
      "_-_-_-_-_-_-_-_-_-_-_-_-_-_-_-_-_-_-_-_-_-_-_-_-_-_-_-_-_-_-\n",
      "O preço de sua viagem será de 100.01\n"
     ]
    }
   ],
   "source": [
    "distancia = float(input('Insira a distância de sua viagem'))\n",
    "print('_-_-' * 15)\n",
    "print('Você está prestes a começar uma viagem de {} kms.'.format(distancia))\n",
    "preço = distancia * 0.50 if distancia <= 200 else distancia * 0.45\n",
    "print('_-_-' * 15)\n",
    "print('O preço de sua viagem será de {:.2f}'.format(preço))\n"
   ]
  },
  {
   "cell_type": "code",
   "execution_count": null,
   "id": "8d893237-9dbd-4cd9-b8fd-e53d4ff22bee",
   "metadata": {},
   "outputs": [],
   "source": []
  }
 ],
 "metadata": {
  "kernelspec": {
   "display_name": "Python 3 (ipykernel)",
   "language": "python",
   "name": "python3"
  },
  "language_info": {
   "codemirror_mode": {
    "name": "ipython",
    "version": 3
   },
   "file_extension": ".py",
   "mimetype": "text/x-python",
   "name": "python",
   "nbconvert_exporter": "python",
   "pygments_lexer": "ipython3",
   "version": "3.11.7"
  }
 },
 "nbformat": 4,
 "nbformat_minor": 5
}
