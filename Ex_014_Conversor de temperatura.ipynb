{
 "cells": [
  {
   "cell_type": "code",
   "execution_count": null,
   "id": "a63c49c9-b92d-41ad-8445-2aebe4d78aae",
   "metadata": {},
   "outputs": [],
   "source": [
    "# Escreva um programa que converta a temperatura em graus celsius para farenheit "
   ]
  },
  {
   "cell_type": "code",
   "execution_count": 1,
   "id": "3acb1822-bc9c-4279-9623-71a6cbaeec20",
   "metadata": {},
   "outputs": [
    {
     "name": "stdin",
     "output_type": "stream",
     "text": [
      "Digite a temperatura: 31.5\n"
     ]
    },
    {
     "name": "stdout",
     "output_type": "stream",
     "text": [
      "A temperatura de 31.50°C corresponde a 88.70° F!\n"
     ]
    }
   ],
   "source": [
    "t = float(input('Digite a temperatura:'))\n",
    "f = (t * 1.8) + 32\n",
    "print('A temperatura de {:.2f}°C corresponde a {:.2f}° F!'.format(t,f))"
   ]
  },
  {
   "cell_type": "code",
   "execution_count": null,
   "id": "98b09f5f-5046-43d4-84dc-065dcfdcb484",
   "metadata": {},
   "outputs": [],
   "source": [
    "# Ou poderia utilizar a fórmula ((t °C * 9) /5 ) + 32. Mesmo sem os parenteses funciona devido a ordem de precedência"
   ]
  }
 ],
 "metadata": {
  "kernelspec": {
   "display_name": "Python 3 (ipykernel)",
   "language": "python",
   "name": "python3"
  },
  "language_info": {
   "codemirror_mode": {
    "name": "ipython",
    "version": 3
   },
   "file_extension": ".py",
   "mimetype": "text/x-python",
   "name": "python",
   "nbconvert_exporter": "python",
   "pygments_lexer": "ipython3",
   "version": "3.11.7"
  }
 },
 "nbformat": 4,
 "nbformat_minor": 5
}
