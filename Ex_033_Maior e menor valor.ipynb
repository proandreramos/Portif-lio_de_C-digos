{
 "cells": [
  {
   "cell_type": "markdown",
   "id": "2f02face-e6e0-4c38-8b84-8b04f80e6eeb",
   "metadata": {},
   "source": [
    "### 33: Faça um programa que leia três números e mostre qual é o maior e qual é o menor."
   ]
  },
  {
   "cell_type": "code",
   "execution_count": null,
   "id": "78dccd53-1622-4d4b-add7-86806c16dd34",
   "metadata": {},
   "outputs": [],
   "source": [
    "a = int(input('Digite um número qualquer'))\n",
    "b = int(input('Digite outro número'))\n",
    "c = int(input('Digite o último número))\n",
    "print('===' * 15)\n",
    "menor = a\n",
    "if b < a and b < c: \n",
    "     menor = b\n",
    "if c < a and c < b:\n",
    "    menor = c\n",
    "maior = b\n",
    "if a > b and a > c : \n",
    "    maior = a\n",
    "if c > a and c > b:\n",
    "    maior = c"
   ]
  }
 ],
 "metadata": {
  "kernelspec": {
   "display_name": "Python 3 (ipykernel)",
   "language": "python",
   "name": "python3"
  },
  "language_info": {
   "codemirror_mode": {
    "name": "ipython",
    "version": 3
   },
   "file_extension": ".py",
   "mimetype": "text/x-python",
   "name": "python",
   "nbconvert_exporter": "python",
   "pygments_lexer": "ipython3",
   "version": "3.11.7"
  }
 },
 "nbformat": 4,
 "nbformat_minor": 5
}
