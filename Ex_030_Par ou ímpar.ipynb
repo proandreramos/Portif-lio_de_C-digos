{
 "cells": [
  {
   "cell_type": "markdown",
   "id": "1c6b57ce-5739-46a1-a7f5-cbe808b9ae0c",
   "metadata": {},
   "source": [
    "### Crie um programa que leia um número inteiro e mostre na tela se ele é par ou ímpar."
   ]
  },
  {
   "cell_type": "code",
   "execution_count": 6,
   "id": "5b57435f-455d-4844-a0ff-4fa951db915d",
   "metadata": {},
   "outputs": [
    {
     "name": "stdin",
     "output_type": "stream",
     "text": [
      "Me diga um número qualquer  0\n"
     ]
    },
    {
     "name": "stdout",
     "output_type": "stream",
     "text": [
      "O número 0 é par\n"
     ]
    }
   ],
   "source": [
    "num = int(input('Me diga um número qualquer '))\n",
    "resultado = num % 2 \n",
    "if resultado == 1:\n",
    "    print('O número {} é ímpar'.format(num))\n",
    "if resultado == 0:\n",
    "    print('O número {} é par'.format(num))\n"
   ]
  },
  {
   "cell_type": "code",
   "execution_count": null,
   "id": "e8f000d8-edb3-4af5-a791-bf2e69339c21",
   "metadata": {},
   "outputs": [],
   "source": []
  }
 ],
 "metadata": {
  "kernelspec": {
   "display_name": "Python 3 (ipykernel)",
   "language": "python",
   "name": "python3"
  },
  "language_info": {
   "codemirror_mode": {
    "name": "ipython",
    "version": 3
   },
   "file_extension": ".py",
   "mimetype": "text/x-python",
   "name": "python",
   "nbconvert_exporter": "python",
   "pygments_lexer": "ipython3",
   "version": "3.11.7"
  }
 },
 "nbformat": 4,
 "nbformat_minor": 5
}
