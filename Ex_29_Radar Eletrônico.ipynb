{
 "cells": [
  {
   "cell_type": "markdown",
   "id": "1e086874-6865-40e2-80e1-27de0a0a8994",
   "metadata": {},
   "source": [
    "### Escreva um programa que leia a velocidade de um carro. Se ele ultrapassar 80 km/h, mostre uma\n",
    "### mensagem dizendo que ele foi multado.A multa vai custar R$7,00 por cada km acima do limite"
   ]
  },
  {
   "cell_type": "code",
   "execution_count": 12,
   "id": "6c24096f-d0a1-4a6c-9acc-caa597a32481",
   "metadata": {},
   "outputs": [
    {
     "name": "stdin",
     "output_type": "stream",
     "text": [
      "Qual é a velocidade atual do carro? 400\n"
     ]
    },
    {
     "name": "stdout",
     "output_type": "stream",
     "text": [
      "MULTADO!\n",
      "Você excedeu o limite de velocidade em 320.0 km/h.\n",
      "Foi multado em R$ 2240.00\n"
     ]
    }
   ],
   "source": [
    "velocidade = float(input('Qual é a velocidade atual do carro?'))\n",
    "if velocidade <= 80:\n",
    "    print('Está tudo em certo, boa viagem!')\n",
    "else:\n",
    "    print('MULTADO!\\n'\n",
    "          'Você excedeu o limite de velocidade em {} km/h.'\n",
    "          '\\nFoi multado em R$ {:.2f}'.format(velocidade - 80, (velocidade - 80) * 7))\n",
    "\n",
    "\n",
    "                         "
   ]
  },
  {
   "cell_type": "code",
   "execution_count": null,
   "id": "d4266752-f236-4a83-911f-855a42d8e606",
   "metadata": {},
   "outputs": [],
   "source": []
  }
 ],
 "metadata": {
  "kernelspec": {
   "display_name": "Python 3 (ipykernel)",
   "language": "python",
   "name": "python3"
  },
  "language_info": {
   "codemirror_mode": {
    "name": "ipython",
    "version": 3
   },
   "file_extension": ".py",
   "mimetype": "text/x-python",
   "name": "python",
   "nbconvert_exporter": "python",
   "pygments_lexer": "ipython3",
   "version": "3.11.7"
  }
 },
 "nbformat": 4,
 "nbformat_minor": 5
}
