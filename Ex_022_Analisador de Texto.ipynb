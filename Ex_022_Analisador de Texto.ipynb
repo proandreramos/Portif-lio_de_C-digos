{
 "cells": [
  {
   "cell_type": "code",
   "execution_count": 3,
   "id": "f2527fba-81d3-4291-940a-f0c87e1eafc6",
   "metadata": {},
   "outputs": [],
   "source": [
    "# Crie um programa que leia o nome completa da pessoa e mostre:\n",
    "# O nome com todas as letras maiusculas e minúsculas\n",
    "# Quantas letras ao todo (sem considerar os espaços)\n",
    "# Quantas letras tem o primeiro nome"
   ]
  },
  {
   "cell_type": "code",
   "execution_count": 15,
   "id": "15fc497e-e863-43de-b475-96469715e124",
   "metadata": {},
   "outputs": [
    {
     "name": "stdin",
     "output_type": "stream",
     "text": [
      "Digite seu nome completo andre luiz ramos de santana santos\n"
     ]
    },
    {
     "name": "stdout",
     "output_type": "stream",
     "text": [
      "Analisando o seu nome....\n",
      "Seu nome com todas as letras maiúsculas: ANDRE LUIZ RAMOS DE SANTANA SANTOS\n",
      "Seu nome com todas as letras minúsculas: andre luiz ramos de santana santos\n",
      "Seu nome tem ao todo:29 letras\n",
      "Seu primeiro nome tem: 5 letras\n",
      "Seu primeiro nome é: andre e tem ao todo 5 letras\n"
     ]
    }
   ],
   "source": [
    "from time import sleep\n",
    "from numpy.ma.core import count\n",
    "\n",
    "nome = str(input('Digite seu nome completo'))\n",
    "print('Analisando o seu nome....')\n",
    "sleep(1)\n",
    "print('Seu nome com todas as letras maiúsculas:', nome.upper())\n",
    "print('Seu nome com todas as letras minúsculas:', nome.lower())\n",
    "print('Seu nome tem ao todo:{} letras'.format(len(nome) - nome.count(' '))) \n",
    "#len contará o total de letras com espaços, count elimina os espaços(explicito entre parenteses).\n",
    "print('Seu primeiro nome tem:',nome.find(' '),'letras')\n",
    "separa = nome.split()\n",
    "print('Seu primeiro nome é: {} e tem ao todo {} letras'.format(separa[0],len(separa[0])))"
   ]
  },
  {
   "cell_type": "code",
   "execution_count": null,
   "id": "bca36c06-f068-4725-a044-85eb8edff3bc",
   "metadata": {},
   "outputs": [],
   "source": []
  }
 ],
 "metadata": {
  "kernelspec": {
   "display_name": "Python 3 (ipykernel)",
   "language": "python",
   "name": "python3"
  },
  "language_info": {
   "codemirror_mode": {
    "name": "ipython",
    "version": 3
   },
   "file_extension": ".py",
   "mimetype": "text/x-python",
   "name": "python",
   "nbconvert_exporter": "python",
   "pygments_lexer": "ipython3",
   "version": "3.11.7"
  }
 },
 "nbformat": 4,
 "nbformat_minor": 5
}
