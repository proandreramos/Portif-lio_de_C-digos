{
 "cells": [
  {
   "cell_type": "code",
   "execution_count": null,
   "id": "dbff74fe-c699-41dc-a115-034f6ca4ef44",
   "metadata": {},
   "outputs": [],
   "source": [
    "# Faça um algoritmo que leia o salário de um funcionário e mostre seu novo salário com aumento de 15%"
   ]
  },
  {
   "cell_type": "code",
   "execution_count": 3,
   "id": "4aa52adc-be75-4312-8bbe-6eaa6279b262",
   "metadata": {},
   "outputs": [
    {
     "name": "stdin",
     "output_type": "stream",
     "text": [
      "Digite o salário atual do funcionário: 1000\n"
     ]
    },
    {
     "name": "stdout",
     "output_type": "stream",
     "text": [
      "Um funcionário que ganhava R$1000.00, com 15% de aumento, passa a receber R$ 1150.00.\n"
     ]
    }
   ],
   "source": [
    "salario = float(input('Digite o salário atual do funcionário:'))\n",
    "novo_salario = salario * 1.15\n",
    "print('Um funcionário que ganhava R${:.2f}, com 15% de aumento, passa a receber R$ {:.2f}.'.format(salario,novo_salario))"
   ]
  },
  {
   "cell_type": "code",
   "execution_count": null,
   "id": "0b1e0851-26d9-4cf1-9f33-a3a92a8083bd",
   "metadata": {},
   "outputs": [],
   "source": [
    "# Obs.: Poderia ser feito com outra variáriavel \"novo = salario + (salario * 15/100)\""
   ]
  }
 ],
 "metadata": {
  "kernelspec": {
   "display_name": "Python 3 (ipykernel)",
   "language": "python",
   "name": "python3"
  },
  "language_info": {
   "codemirror_mode": {
    "name": "ipython",
    "version": 3
   },
   "file_extension": ".py",
   "mimetype": "text/x-python",
   "name": "python",
   "nbconvert_exporter": "python",
   "pygments_lexer": "ipython3",
   "version": "3.11.7"
  }
 },
 "nbformat": 4,
 "nbformat_minor": 5
}
