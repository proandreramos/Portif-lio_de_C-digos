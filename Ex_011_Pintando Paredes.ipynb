{
 "cells": [
  {
   "cell_type": "code",
   "execution_count": null,
   "id": "cd9893e8-57a7-4005-bded-809f232c2585",
   "metadata": {},
   "outputs": [],
   "source": [
    "#Faça um programa que leia a largura e a altura de uma parede em metros, calcule a sua área e \n",
    "# a quantidade de tinta necessária para pintá-la, sabendo que cada litro de tinta pinta uma área de 2m²"
   ]
  },
  {
   "cell_type": "code",
   "execution_count": 3,
   "id": "12b2dda9-2d55-4683-9b84-424811ca6ace",
   "metadata": {},
   "outputs": [
    {
     "name": "stdin",
     "output_type": "stream",
     "text": [
      "Digite a largura em metros da parede a ser pintada: .35\n",
      "Digite a altura em metros da parede a ser pintada:  6.75\n"
     ]
    },
    {
     "name": "stdout",
     "output_type": "stream",
     "text": [
      "Sua parede tem a dimensão de 0.35 x 6.75 , totalizando 2.36 m². \n",
      "Para pintar esta parede você precisará de 1.18 litros de tinta\n"
     ]
    }
   ],
   "source": [
    "l = float(input('Digite a largura em metros da parede a ser pintada:'))\n",
    "a = float(input('Digite a altura em metros da parede a ser pintada: '))\n",
    "area = l * a\n",
    "rendimento = 2 #(m²)\n",
    "print('Sua parede tem a dimensão de {} x {} , totalizando {:.2f} m². \\nPara pintar esta parede você precisará de {:.2f} litros de tinta'.format(l,a,area,area/rendimento))"
   ]
  },
  {
   "cell_type": "code",
   "execution_count": null,
   "id": "6aad637f-d6b1-44e2-bfb6-b1c1d2b7d944",
   "metadata": {},
   "outputs": [],
   "source": []
  }
 ],
 "metadata": {
  "kernelspec": {
   "display_name": "Python 3 (ipykernel)",
   "language": "python",
   "name": "python3"
  },
  "language_info": {
   "codemirror_mode": {
    "name": "ipython",
    "version": 3
   },
   "file_extension": ".py",
   "mimetype": "text/x-python",
   "name": "python",
   "nbconvert_exporter": "python",
   "pygments_lexer": "ipython3",
   "version": "3.11.7"
  }
 },
 "nbformat": 4,
 "nbformat_minor": 5
}
