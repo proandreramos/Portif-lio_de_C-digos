{
 "cells": [
  {
   "cell_type": "code",
   "execution_count": null,
   "id": "2ca833ae-78ae-4e02-87a6-ed4f8eb5fee2",
   "metadata": {},
   "outputs": [],
   "source": [
    "# 010 Crie um programa que leia quanto dinheiro uma pessoa tem na carteira e mostre quantos dolares ela pode comprar"
   ]
  },
  {
   "cell_type": "code",
   "execution_count": null,
   "id": "c47d4db5-2a9c-4bd4-9317-9acfc3c39342",
   "metadata": {},
   "outputs": [],
   "source": [
    "# USD$ = 5,62 - 12/09/2024  Peso argentino = 0,0059 reais.\n"
   ]
  },
  {
   "cell_type": "code",
   "execution_count": 9,
   "id": "58ae4e0b-7c80-449d-82bf-1542df2955ea",
   "metadata": {},
   "outputs": [
    {
     "name": "stdin",
     "output_type": "stream",
     "text": [
      "Digite quantos reais você deseja converter para o dólar americano e pesos argentinos:  50\n"
     ]
    },
    {
     "name": "stdout",
     "output_type": "stream",
     "text": [
      "Você digitou o total de R$50.0 reais. Este valor equivale a:\n",
      "\n",
      "US$ 8.90 dólares \n",
      "\n",
      "ARS$ 8540.00 pesos argentinos.\n"
     ]
    }
   ],
   "source": [
    "n = float(input('Digite quantos reais você deseja converter para o dólar americano e pesos argentinos: '))\n",
    "d = n / 5.62\n",
    "p = n * 170.8\n",
    "print('Você digitou o total de R${} reais. Este valor equivale a:\\n\\nUS$ {:.2f} dólares \\n\\nARS$ {:.2f} pesos argentinos.'.format(n,d,p))\n"
   ]
  },
  {
   "cell_type": "code",
   "execution_count": null,
   "id": "9070280a-d289-4db7-b3e0-550743fb7daa",
   "metadata": {},
   "outputs": [],
   "source": []
  }
 ],
 "metadata": {
  "kernelspec": {
   "display_name": "Python 3 (ipykernel)",
   "language": "python",
   "name": "python3"
  },
  "language_info": {
   "codemirror_mode": {
    "name": "ipython",
    "version": 3
   },
   "file_extension": ".py",
   "mimetype": "text/x-python",
   "name": "python",
   "nbconvert_exporter": "python",
   "pygments_lexer": "ipython3",
   "version": "3.11.7"
  }
 },
 "nbformat": 4,
 "nbformat_minor": 5
}
