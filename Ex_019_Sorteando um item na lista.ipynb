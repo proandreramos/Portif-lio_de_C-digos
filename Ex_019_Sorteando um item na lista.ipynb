{
 "cells": [
  {
   "cell_type": "markdown",
   "id": "aaa4c419-17dd-4abf-8190-a7632620ab4e",
   "metadata": {},
   "source": [
    "### Um professor quer sortear um de seus quatro alunos para apagar o quadro. Faça um programa que o ajude, lendo os nomes e escrevendo o escolhido."
   ]
  },
  {
   "cell_type": "code",
   "execution_count": 10,
   "id": "be98c96f-4aad-415f-be58-7bcb8e28d3c9",
   "metadata": {},
   "outputs": [
    {
     "name": "stdin",
     "output_type": "stream",
     "text": [
      "Insira o nome do 1º aluno Ana\n",
      "Insira o nome do 2º aluno José\n",
      "Insira o nome do 3° aluno carla\n",
      "Insira o nome do 4º aluno cida\n"
     ]
    },
    {
     "name": "stdout",
     "output_type": "stream",
     "text": [
      "Entre os alunos: \n",
      "Ana,\n",
      "José,\n",
      "carla,\n",
      "cida,\n",
      "O escolhido foi:cida\n"
     ]
    }
   ],
   "source": [
    "import random\n",
    "a1 = input('Insira o nome do 1º aluno')\n",
    "a2 = input('Insira o nome do 2º aluno')\n",
    "a3 = input('Insira o nome do 3° aluno')\n",
    "a4 = input('Insira o nome do 4º aluno')\n",
    "lista = [a1, a2, a3, a4]\n",
    "escolhido = random.choice(lista)\n",
    "print('Entre os alunos: \\n{},\\n{},\\n{},\\n{},\\nO escolhido foi:{}'.format(a1,a2,a3,a4,escolhido))"
   ]
  },
  {
   "cell_type": "code",
   "execution_count": null,
   "id": "9ad33690-a9f9-423a-ae37-42caf94b1c50",
   "metadata": {},
   "outputs": [],
   "source": [
    "# Outra forma: from random import choice"
   ]
  },
  {
   "cell_type": "code",
   "execution_count": null,
   "id": "3e5ef518-c1b6-44ef-bc27-20afa1d8ad42",
   "metadata": {},
   "outputs": [],
   "source": []
  }
 ],
 "metadata": {
  "kernelspec": {
   "display_name": "Python 3 (ipykernel)",
   "language": "python",
   "name": "python3"
  },
  "language_info": {
   "codemirror_mode": {
    "name": "ipython",
    "version": 3
   },
   "file_extension": ".py",
   "mimetype": "text/x-python",
   "name": "python",
   "nbconvert_exporter": "python",
   "pygments_lexer": "ipython3",
   "version": "3.11.7"
  }
 },
 "nbformat": 4,
 "nbformat_minor": 5
}
