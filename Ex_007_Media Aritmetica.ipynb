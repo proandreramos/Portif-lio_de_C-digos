{
 "cells": [
  {
   "cell_type": "code",
   "execution_count": null,
   "id": "729c4552-b2a0-4e4a-b00b-92f996104a6d",
   "metadata": {},
   "outputs": [],
   "source": [
    "# Desenvolva um programa que leia as duas notas de um aluno, calcule e mostre sua média "
   ]
  },
  {
   "cell_type": "code",
   "execution_count": 7,
   "id": "2a49c9d3-e4e4-419b-b08b-9df888d926ba",
   "metadata": {},
   "outputs": [
    {
     "name": "stdin",
     "output_type": "stream",
     "text": [
      "Digite a 1ª nota:  5.15\n",
      "Digite a 2ª nota:  5.15\n"
     ]
    },
    {
     "name": "stdout",
     "output_type": "stream",
     "text": [
      "Suas notas foram, respectivamente, 5.15 e 5.15.\n",
      "A média de suas notas é 5.2\n"
     ]
    }
   ],
   "source": [
    "n1 = float(input('Digite a 1ª nota: '))\n",
    "n2 = float(input('Digite a 2ª nota: '))\n",
    "m = (n1 + n2) / 2\n",
    "print('Suas notas foram, respectivamente, {} e {}.\\nA média de suas notas é {:.1f}'.format(n1, n2, m))\n",
    "\n",
    "#Obs.: O último campo foi formatado para exibir apenas 1 casa decimal, logo, ele fará o arredondamento (para cima ou para baixo)"
   ]
  },
  {
   "cell_type": "code",
   "execution_count": null,
   "id": "756e161e-6c67-4f79-8c99-a4abaa27b024",
   "metadata": {},
   "outputs": [],
   "source": []
  }
 ],
 "metadata": {
  "kernelspec": {
   "display_name": "Python 3 (ipykernel)",
   "language": "python",
   "name": "python3"
  },
  "language_info": {
   "codemirror_mode": {
    "name": "ipython",
    "version": 3
   },
   "file_extension": ".py",
   "mimetype": "text/x-python",
   "name": "python",
   "nbconvert_exporter": "python",
   "pygments_lexer": "ipython3",
   "version": "3.11.7"
  }
 },
 "nbformat": 4,
 "nbformat_minor": 5
}
