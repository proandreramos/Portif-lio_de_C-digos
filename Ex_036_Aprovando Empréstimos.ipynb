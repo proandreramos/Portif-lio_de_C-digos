{
 "cells": [
  {
   "cell_type": "code",
   "execution_count": null,
   "id": "a435a7bb-8d7c-4d16-925e-f6e12ba99306",
   "metadata": {},
   "outputs": [],
   "source": [
    "### Escreva um programa para aprovar um empréstimo bancário para a compra de uma casa. Pergunte o valor\n",
    "### da casa, o salário do comprador e em quantos anos ele vai pagar.\n",
    "### A prestação mensal não pode exceder 30% do salário ou então o empréstimo será negado"
   ]
  },
  {
   "cell_type": "code",
   "execution_count": 3,
   "id": "c48ac8a4-9c55-480d-9a7f-b00c2199a72b",
   "metadata": {},
   "outputs": [
    {
     "name": "stdin",
     "output_type": "stream",
     "text": [
      "Qual é o valor da casa? R$  100000\n",
      "Qual é o salário do comprador?  1500\n",
      "Em quantos anos de financiamento? 20\n"
     ]
    },
    {
     "name": "stdout",
     "output_type": "stream",
     "text": [
      "Para pagar uma casa de 100000.00 em 20.00 anos, a prestação será de R$ 416.67\n",
      "Empréstimo pode ser CONCEDIDO\n"
     ]
    }
   ],
   "source": [
    "casa = float(input('Qual é o valor da casa? R$ '))\n",
    "salario = float(input('Qual é o salário do comprador? '))\n",
    "tempo = int(input('Em quantos anos de financiamento?'))\n",
    "prestação = casa / (tempo * 12)\n",
    "minimo = salario * 30 / 100\n",
    "print('Para pagar uma casa de {:.2f} em {:.2f} anos, a prestação será de R$ {:.2f}'.format(casa, tempo, prestação))\n",
    "if prestação <= minimo:\n",
    "    print('Empréstimo pode ser CONCEDIDO')\n",
    "else:\n",
    "    print('Empréstimo NEGADO')"
   ]
  },
  {
   "cell_type": "code",
   "execution_count": null,
   "id": "d678f22e-d08e-45c8-b6ef-8e298043f8f0",
   "metadata": {},
   "outputs": [],
   "source": []
  }
 ],
 "metadata": {
  "kernelspec": {
   "display_name": "Python 3 (ipykernel)",
   "language": "python",
   "name": "python3"
  },
  "language_info": {
   "codemirror_mode": {
    "name": "ipython",
    "version": 3
   },
   "file_extension": ".py",
   "mimetype": "text/x-python",
   "name": "python",
   "nbconvert_exporter": "python",
   "pygments_lexer": "ipython3",
   "version": "3.11.7"
  }
 },
 "nbformat": 4,
 "nbformat_minor": 5
}
