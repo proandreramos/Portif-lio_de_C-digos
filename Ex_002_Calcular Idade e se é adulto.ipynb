{
 "cells": [
  {
   "cell_type": "markdown",
   "id": "adbd1375-5790-448e-83f3-a14a46703d03",
   "metadata": {},
   "source": [
    "### Crie um programa que leia o ano de nascimento da pessoa e devolva como mensagem a sua idade e se ele é ou não adulto"
   ]
  },
  {
   "cell_type": "code",
   "execution_count": 17,
   "id": "369778c8-74da-44a4-9996-390101572f99",
   "metadata": {},
   "outputs": [
    {
     "name": "stdin",
     "output_type": "stream",
     "text": [
      "Digite o ano em que você nasceu 1980\n"
     ]
    },
    {
     "name": "stdout",
     "output_type": "stream",
     "text": [
      "Você já é um adulto pois tem 44 anos.\n"
     ]
    }
   ],
   "source": [
    "ano = int(input('Digite o ano em que você nasceu'))\n",
    "idade = 2024 - ano\n",
    "if idade >= 18:\n",
    "    print('Você já é um adulto pois tem', (idade), 'anos.')\n",
    "else:\n",
    "    print('Você ainda não é adulto pois ainda tem',(idade),'anos. Faltam', (18 - idade),'anos para alcançar a maioridade'.format(idade))\n"
   ]
  },
  {
   "cell_type": "code",
   "execution_count": null,
   "id": "c90b1093-dee8-4473-b73f-cc00adc76c38",
   "metadata": {},
   "outputs": [],
   "source": [
    "# Tenho um carinho especial por este pois foi o primeiro programa que escrevi sozinho. "
   ]
  }
 ],
 "metadata": {
  "kernelspec": {
   "display_name": "Python 3 (ipykernel)",
   "language": "python",
   "name": "python3"
  },
  "language_info": {
   "codemirror_mode": {
    "name": "ipython",
    "version": 3
   },
   "file_extension": ".py",
   "mimetype": "text/x-python",
   "name": "python",
   "nbconvert_exporter": "python",
   "pygments_lexer": "ipython3",
   "version": "3.11.7"
  }
 },
 "nbformat": 4,
 "nbformat_minor": 5
}
