{
 "cells": [
  {
   "cell_type": "markdown",
   "id": "482c620b-c4b3-4247-8a5b-2cf52b90f814",
   "metadata": {},
   "source": [
    "### 35: Desenvolva um programa que leia o comprimento de três retas e diga ao\n",
    "### usuário se elas podem ou não formar um triângulo."
   ]
  },
  {
   "cell_type": "code",
   "execution_count": 3,
   "id": "bbd20e9b-4ad8-48aa-b5da-78d4a0c36d56",
   "metadata": {},
   "outputs": [
    {
     "name": "stdout",
     "output_type": "stream",
     "text": [
      "-=-=-=-=-=-=-=-=-=-=-=-=-=-=-=-=-=-=-=-=-=-=-=-=-=-=-=-=-=-=\n",
      "Analisador de Triângulos:\n",
      "-=-=-=-=-=-=-=-=-=-=-=-=-=-=-=-=-=-=-=-=-=-=-=-=-=-=-=-=-=-=\n"
     ]
    },
    {
     "name": "stdin",
     "output_type": "stream",
     "text": [
      "Insira o primeiro segmento de reta:  5\n",
      "Insira o segundo segmento de reta:  4\n",
      "Insira o terceiro segmento de reta:  3\n"
     ]
    }
   ],
   "source": [
    "print('-=-=' * 15)\n",
    "print('Analisador de Triângulos:')\n",
    "print('-=-=' * 15)\n",
    "a = float(input('Insira o primeiro segmento de reta: '))\n",
    "b = float(input('Insira o segundo segmento de reta: '))\n",
    "c = float(input('Insira o terceiro segmento de reta: '))\n",
    "if a < b + c and b < a + c and c < b + a:\n",
    "    print('-=-=')\n",
    "    print('Os segmentos informados PODEM FORMAR UM TRIÂNGULO')\n",
    "else:\n",
    "    print('Os segmentos informados NÃO FORMAM UM T"
   ]
  },
  {
   "cell_type": "code",
   "execution_count": null,
   "id": "74b0d7ae-657c-4b76-97af-e40a9d8fa71a",
   "metadata": {},
   "outputs": [],
   "source": []
  }
 ],
 "metadata": {
  "kernelspec": {
   "display_name": "Python 3 (ipykernel)",
   "language": "python",
   "name": "python3"
  },
  "language_info": {
   "codemirror_mode": {
    "name": "ipython",
    "version": 3
   },
   "file_extension": ".py",
   "mimetype": "text/x-python",
   "name": "python",
   "nbconvert_exporter": "python",
   "pygments_lexer": "ipython3",
   "version": "3.11.7"
  }
 },
 "nbformat": 4,
 "nbformat_minor": 5
}
