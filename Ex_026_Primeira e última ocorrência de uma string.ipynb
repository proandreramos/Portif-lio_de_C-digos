{
 "cells": [
  {
   "cell_type": "markdown",
   "id": "06fcf5f0-c554-46fe-89db-c92737b97808",
   "metadata": {},
   "source": [
    "## Faça um programa que leia a frase pelo teclado e mostre:\n",
    "## Quantas vezes aparece a letra \"A\", Em que posição ela aparece pela 1ªvez,\n",
    "## em que posição aparece pela ultima vez."
   ]
  },
  {
   "cell_type": "code",
   "execution_count": 3,
   "id": "7ce7f712-4503-4172-8f51-04f5bc0f988e",
   "metadata": {},
   "outputs": [
    {
     "name": "stdin",
     "output_type": "stream",
     "text": [
      "Digite uma frase qualquer:  aleluia\n"
     ]
    },
    {
     "name": "stdout",
     "output_type": "stream",
     "text": [
      "A letra \"A\" aparece 2 vezes na frase\n",
      "A primeira letra \"A\" aparece na posição 1\n",
      "A última letra \"A\" apareceu na posição 7\n"
     ]
    }
   ],
   "source": [
    "frase = str(input('Digite uma frase qualquer: ')).upper().strip()\n",
    "print('A letra \"A\" aparece {} vezes na frase'.format(frase.count('A')))\n",
    "print('A primeira letra \"A\" aparece na posição {}'.format(frase.find(\"A\") + 1))\n",
    "print('A última letra \"A\" apareceu na posição {}'.format(frase.rfind(\"A\") + 1))"
   ]
  },
  {
   "cell_type": "code",
   "execution_count": null,
   "id": "9644be8e-6e9e-461d-ba19-9f74a97b6c21",
   "metadata": {},
   "outputs": [],
   "source": []
  }
 ],
 "metadata": {
  "kernelspec": {
   "display_name": "Python 3 (ipykernel)",
   "language": "python",
   "name": "python3"
  },
  "language_info": {
   "codemirror_mode": {
    "name": "ipython",
    "version": 3
   },
   "file_extension": ".py",
   "mimetype": "text/x-python",
   "name": "python",
   "nbconvert_exporter": "python",
   "pygments_lexer": "ipython3",
   "version": "3.11.7"
  }
 },
 "nbformat": 4,
 "nbformat_minor": 5
}
